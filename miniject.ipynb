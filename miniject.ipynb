{
 "cells": [
  {
   "cell_type": "code",
   "execution_count": 1,
   "id": "79d65908",
   "metadata": {},
   "outputs": [],
   "source": [
    "import librosa\n",
    "import soundfile\n",
    "import os, glob, pickle\n",
    "import numpy as np\n",
    "from sklearn.model_selection import train_test_split\n",
    "from sklearn.neural_network import MLPClassifier\n",
    "from sklearn.metrics import accuracy_score"
   ]
  },
  {
   "cell_type": "code",
   "execution_count": 2,
   "id": "1a45a5f2",
   "metadata": {},
   "outputs": [],
   "source": [
    "#Extract features (mfcc, chroma, mel) from a sound file\n",
    "def feature_extraction(file_name, mfcc, chroma, mel):\n",
    "    with soundfile.SoundFile(file_name) as sound_file:\n",
    "        X = sound_file.read(dtype=\"float32\")\n",
    "        sample_rate=sound_file.samplerate\n",
    "        if chroma:\n",
    "            stft=np.abs(librosa.stft(X))\n",
    "        result=np.array([])\n",
    "        if mfcc:\n",
    "            mfccs=np.mean(librosa.feature.mfcc(y=X, sr=sample_rate, n_mfcc=40).T, axis=0)\n",
    "            result=np.hstack((result, mfccs))\n",
    "        if chroma:\n",
    "            chroma=np.mean(librosa.feature.chroma_stft(S=stft, sr=sample_rate).T,axis=0)\n",
    "            result=np.hstack((result, chroma))\n",
    "        if mel:\n",
    "            mel=np.mean(librosa.feature.melspectrogram(X, sr=sample_rate).T,axis=0)\n",
    "            result=np.hstack((result, mel))\n",
    "    return result"
   ]
  },
  {
   "cell_type": "code",
   "execution_count": 3,
   "id": "ed6fd126",
   "metadata": {},
   "outputs": [],
   "source": [
    "#Emotions in the RAVDESS dataset\n",
    "emotions={\n",
    "  '01':'neutral',\n",
    "  '02':'calm',\n",
    "  '03':'happy',\n",
    "  '04':'sad',\n",
    "  '05':'angry',\n",
    "  '06':'fearful',\n",
    "  '07':'disgust',\n",
    "  '08':'surprised'\n",
    "}\n",
    "\n",
    "#Emotions to observe\n",
    "observed_emotions=['calm', 'happy', 'fearful', 'disgust']"
   ]
  },
  {
   "cell_type": "code",
   "execution_count": 4,
   "id": "4a02d856",
   "metadata": {},
   "outputs": [],
   "source": [
    "#Load the data and extract features for each sound file\n",
    "def load_data(test_size=0.2):\n",
    "    x,y=[],[]\n",
    "    for file in glob.glob(\"C:\\\\Users\\\\Admin\\\\Downloads\\\\Actor_*\\\\*.wav\"):\n",
    "        file_name=os.path.basename(file)\n",
    "        emotion=emotions[file_name.split(\"-\")[2]]\n",
    "        if emotion not in observed_emotions:\n",
    "            continue\n",
    "        feature=feature_extraction(file, mfcc=True, chroma=True, mel=True)\n",
    "        x.append(feature)\n",
    "        y.append(emotion)\n",
    "    return train_test_split(np.array(x), y, test_size=test_size, random_state=9)"
   ]
  },
  {
   "cell_type": "code",
   "execution_count": 5,
   "id": "398e4ac6",
   "metadata": {},
   "outputs": [],
   "source": [
    "#Split the dataset\n",
    "x_train,x_test,y_train,y_test=load_data(test_size=0.05)"
   ]
  },
  {
   "cell_type": "code",
   "execution_count": 6,
   "id": "47889354",
   "metadata": {},
   "outputs": [
    {
     "name": "stdout",
     "output_type": "stream",
     "text": [
      "(729, 39)\n"
     ]
    }
   ],
   "source": [
    "#Get the shape of the training and testing datasets\n",
    "print((x_train.shape[0], x_test.shape[0]))"
   ]
  },
  {
   "cell_type": "code",
   "execution_count": 7,
   "id": "669d1b47",
   "metadata": {},
   "outputs": [
    {
     "name": "stdout",
     "output_type": "stream",
     "text": [
      "Features extracted: 180\n"
     ]
    }
   ],
   "source": [
    "#DataFlair - Get the number of features extracted\n",
    "print(f'Features extracted: {x_train.shape[1]}')"
   ]
  },
  {
   "cell_type": "code",
   "execution_count": 8,
   "id": "616f73be",
   "metadata": {},
   "outputs": [],
   "source": [
    "#DataFlair - Initialize the Multi Layer Perceptron Classifier\n",
    "model=MLPClassifier(alpha=0.001, batch_size=400, beta_1=0.9,beta_2=0.999, early_stopping=False, epsilon=1e-08,hidden_layer_sizes=400, learning_rate='adaptive', learning_rate_init=0.001, max_fun=15000, max_iter=800,momentum=0.9, n_iter_no_change=10,nesterovs_momentum=True, power_t=0.5, random_state=None, shuffle=True, solver='adam', tol=0.001, validation_fraction=0.1, verbose=False, warm_start=False) "
   ]
  },
  {
   "cell_type": "code",
   "execution_count": 9,
   "id": "9a5c5cd7",
   "metadata": {},
   "outputs": [
    {
     "data": {
      "text/plain": [
       "MLPClassifier(alpha=0.001, batch_size=400, hidden_layer_sizes=400,\n",
       "              learning_rate='adaptive', max_iter=800, tol=0.001)"
      ]
     },
     "execution_count": 9,
     "metadata": {},
     "output_type": "execute_result"
    }
   ],
   "source": [
    "#Train the model\n",
    "model.fit(x_train,y_train)"
   ]
  },
  {
   "cell_type": "code",
   "execution_count": 10,
   "id": "3355e11f",
   "metadata": {},
   "outputs": [],
   "source": [
    "#Predict for the test set\n",
    "y_pred=model.predict(x_test)"
   ]
  },
  {
   "cell_type": "code",
   "execution_count": 11,
   "id": "c429e2a0",
   "metadata": {},
   "outputs": [
    {
     "name": "stdout",
     "output_type": "stream",
     "text": [
      "Accuracy: 74.36%\n"
     ]
    }
   ],
   "source": [
    "#Calculate the accuracy of our model\n",
    "accuracy=accuracy_score(y_true=y_test, y_pred=y_pred)\n",
    "#Print the accuracy\n",
    "print(\"Accuracy: {:.2f}%\".format(accuracy*100))"
   ]
  },
  {
   "cell_type": "code",
   "execution_count": 12,
   "id": "2f232e7a",
   "metadata": {},
   "outputs": [],
   "source": [
    "from sklearn.metrics import accuracy_score, f1_score"
   ]
  },
  {
   "cell_type": "code",
   "execution_count": 13,
   "id": "1b48b791",
   "metadata": {},
   "outputs": [
    {
     "data": {
      "text/plain": [
       "array([0.84210526, 0.76190476, 0.4       , 0.78571429])"
      ]
     },
     "execution_count": 13,
     "metadata": {},
     "output_type": "execute_result"
    }
   ],
   "source": [
    "f1_score(y_test, y_pred,average=None)"
   ]
  },
  {
   "cell_type": "code",
   "execution_count": 14,
   "id": "925720b9",
   "metadata": {},
   "outputs": [
    {
     "data": {
      "text/html": [
       "<div>\n",
       "<style scoped>\n",
       "    .dataframe tbody tr th:only-of-type {\n",
       "        vertical-align: middle;\n",
       "    }\n",
       "\n",
       "    .dataframe tbody tr th {\n",
       "        vertical-align: top;\n",
       "    }\n",
       "\n",
       "    .dataframe thead th {\n",
       "        text-align: right;\n",
       "    }\n",
       "</style>\n",
       "<table border=\"1\" class=\"dataframe\">\n",
       "  <thead>\n",
       "    <tr style=\"text-align: right;\">\n",
       "      <th></th>\n",
       "      <th>Actual</th>\n",
       "      <th>Predicted</th>\n",
       "    </tr>\n",
       "  </thead>\n",
       "  <tbody>\n",
       "    <tr>\n",
       "      <th>0</th>\n",
       "      <td>happy</td>\n",
       "      <td>happy</td>\n",
       "    </tr>\n",
       "    <tr>\n",
       "      <th>1</th>\n",
       "      <td>calm</td>\n",
       "      <td>calm</td>\n",
       "    </tr>\n",
       "    <tr>\n",
       "      <th>2</th>\n",
       "      <td>happy</td>\n",
       "      <td>happy</td>\n",
       "    </tr>\n",
       "    <tr>\n",
       "      <th>3</th>\n",
       "      <td>happy</td>\n",
       "      <td>happy</td>\n",
       "    </tr>\n",
       "    <tr>\n",
       "      <th>4</th>\n",
       "      <td>disgust</td>\n",
       "      <td>fearful</td>\n",
       "    </tr>\n",
       "    <tr>\n",
       "      <th>5</th>\n",
       "      <td>calm</td>\n",
       "      <td>calm</td>\n",
       "    </tr>\n",
       "    <tr>\n",
       "      <th>6</th>\n",
       "      <td>happy</td>\n",
       "      <td>disgust</td>\n",
       "    </tr>\n",
       "    <tr>\n",
       "      <th>7</th>\n",
       "      <td>happy</td>\n",
       "      <td>happy</td>\n",
       "    </tr>\n",
       "    <tr>\n",
       "      <th>8</th>\n",
       "      <td>disgust</td>\n",
       "      <td>disgust</td>\n",
       "    </tr>\n",
       "    <tr>\n",
       "      <th>9</th>\n",
       "      <td>happy</td>\n",
       "      <td>happy</td>\n",
       "    </tr>\n",
       "    <tr>\n",
       "      <th>10</th>\n",
       "      <td>happy</td>\n",
       "      <td>happy</td>\n",
       "    </tr>\n",
       "    <tr>\n",
       "      <th>11</th>\n",
       "      <td>disgust</td>\n",
       "      <td>disgust</td>\n",
       "    </tr>\n",
       "    <tr>\n",
       "      <th>12</th>\n",
       "      <td>happy</td>\n",
       "      <td>fearful</td>\n",
       "    </tr>\n",
       "    <tr>\n",
       "      <th>13</th>\n",
       "      <td>happy</td>\n",
       "      <td>happy</td>\n",
       "    </tr>\n",
       "    <tr>\n",
       "      <th>14</th>\n",
       "      <td>disgust</td>\n",
       "      <td>disgust</td>\n",
       "    </tr>\n",
       "    <tr>\n",
       "      <th>15</th>\n",
       "      <td>fearful</td>\n",
       "      <td>happy</td>\n",
       "    </tr>\n",
       "    <tr>\n",
       "      <th>16</th>\n",
       "      <td>calm</td>\n",
       "      <td>calm</td>\n",
       "    </tr>\n",
       "    <tr>\n",
       "      <th>17</th>\n",
       "      <td>happy</td>\n",
       "      <td>happy</td>\n",
       "    </tr>\n",
       "    <tr>\n",
       "      <th>18</th>\n",
       "      <td>disgust</td>\n",
       "      <td>disgust</td>\n",
       "    </tr>\n",
       "    <tr>\n",
       "      <th>19</th>\n",
       "      <td>disgust</td>\n",
       "      <td>disgust</td>\n",
       "    </tr>\n",
       "  </tbody>\n",
       "</table>\n",
       "</div>"
      ],
      "text/plain": [
       "     Actual Predicted\n",
       "0     happy     happy\n",
       "1      calm      calm\n",
       "2     happy     happy\n",
       "3     happy     happy\n",
       "4   disgust   fearful\n",
       "5      calm      calm\n",
       "6     happy   disgust\n",
       "7     happy     happy\n",
       "8   disgust   disgust\n",
       "9     happy     happy\n",
       "10    happy     happy\n",
       "11  disgust   disgust\n",
       "12    happy   fearful\n",
       "13    happy     happy\n",
       "14  disgust   disgust\n",
       "15  fearful     happy\n",
       "16     calm      calm\n",
       "17    happy     happy\n",
       "18  disgust   disgust\n",
       "19  disgust   disgust"
      ]
     },
     "execution_count": 14,
     "metadata": {},
     "output_type": "execute_result"
    }
   ],
   "source": [
    "import pandas as pd\n",
    "df=pd.DataFrame({'Actual': y_test, 'Predicted':y_pred})\n",
    "df.head(20)"
   ]
  },
  {
   "cell_type": "code",
   "execution_count": 15,
   "id": "c1908d2c",
   "metadata": {},
   "outputs": [],
   "source": [
    "import pickle\n",
    "# Writing different model files to file\n",
    "with open( 'modelForPrediction1.sav', 'wb') as f:\n",
    "    pickle.dump(model,f)"
   ]
  },
  {
   "cell_type": "code",
   "execution_count": 16,
   "id": "fffc7a90",
   "metadata": {},
   "outputs": [
    {
     "data": {
      "text/plain": [
       "array(['happy'], dtype='<U7')"
      ]
     },
     "execution_count": 16,
     "metadata": {},
     "output_type": "execute_result"
    }
   ],
   "source": [
    "filename = 'modelForPrediction1.sav'\n",
    "loaded_model = pickle.load(open(filename, 'rb')) # loading the model file from the storage\n",
    "\n",
    "feature=feature_extraction(\"C:\\\\Users\\\\Admin\\\\Downloads\\\\Actor_05\\\\03-01-08-02-02-01-05.wav\", mfcc=True, chroma=True, mel=True)\n",
    "\n",
    "feature=feature.reshape(1,-1)\n",
    "\n",
    "prediction=loaded_model.predict(feature)\n",
    "prediction"
   ]
  },
  {
   "cell_type": "code",
   "execution_count": 17,
   "id": "71b1674d",
   "metadata": {},
   "outputs": [
    {
     "name": "stdout",
     "output_type": "stream",
     "text": [
      "Accuracy: 74.36%\n"
     ]
    }
   ],
   "source": [
    "accuracy=accuracy_score(y_true=y_test, y_pred=y_pred)\n",
    "\n",
    "#DataFlair - Print the accuracy\n",
    "print(\"Accuracy: {:.2f}%\".format(accuracy*100))"
   ]
  },
  {
   "cell_type": "code",
   "execution_count": 18,
   "id": "28c698fe",
   "metadata": {},
   "outputs": [
    {
     "data": {
      "text/plain": [
       "array([[-5.69613770e+02,  4.14624329e+01, -3.71787477e+00,\n",
       "         4.61011982e+00, -7.21511030e+00, -5.93163776e+00,\n",
       "        -1.02282162e+01, -8.58245087e+00, -8.53327656e+00,\n",
       "         3.67578125e+00, -5.23400545e+00, -2.78784609e+00,\n",
       "        -2.21404529e+00, -1.86230850e+00, -4.10027266e+00,\n",
       "        -4.90808392e+00, -3.82830873e-02, -4.57898974e-01,\n",
       "        -4.68290567e+00, -9.59803700e-01, -3.17451310e+00,\n",
       "        -2.07436070e-01,  1.95775580e+00,  3.82537508e+00,\n",
       "         3.33356214e+00,  2.94928861e+00,  2.82683301e+00,\n",
       "         3.32106519e+00,  4.99040079e+00,  6.25532246e+00,\n",
       "         4.05016994e+00,  5.29781199e+00,  4.73517847e+00,\n",
       "         3.73376727e+00,  2.18284869e+00,  4.02091551e+00,\n",
       "         2.31707764e+00,  3.83285689e+00,  3.12607169e-01,\n",
       "         7.00969398e-01,  6.15234733e-01,  6.83239400e-01,\n",
       "         6.97215021e-01,  7.58680522e-01,  7.59205878e-01,\n",
       "         7.36530840e-01,  7.53984332e-01,  7.47070909e-01,\n",
       "         7.50083864e-01,  7.36196280e-01,  6.82358325e-01,\n",
       "         6.48668230e-01,  3.32001859e-04,  3.85680978e-05,\n",
       "         1.61613454e-04,  4.13575792e-04,  7.44023244e-04,\n",
       "         8.72843619e-03,  3.06683611e-02,  5.36076240e-02,\n",
       "         1.00317642e-01,  9.53553841e-02,  1.10265248e-01,\n",
       "         1.28936306e-01,  1.65037047e-02,  2.01858804e-02,\n",
       "         2.73902304e-02,  8.80223736e-02,  1.95882618e-01,\n",
       "         2.55381614e-01,  2.82613367e-01,  1.86857566e-01,\n",
       "         1.71559155e-01,  1.45566359e-01,  3.59150887e-01,\n",
       "         5.43495178e-01,  1.89891919e-01,  1.92463189e-01,\n",
       "         2.90604919e-01,  1.16230011e-01,  9.07272249e-02,\n",
       "         4.12563235e-02,  4.93885688e-02,  1.14905998e-01,\n",
       "         1.00724176e-01,  6.15889542e-02,  6.03923872e-02,\n",
       "         4.91706841e-02,  2.18073260e-02,  1.37200207e-02,\n",
       "         3.47859808e-03,  5.41171851e-03,  5.93204098e-03,\n",
       "         1.26789138e-02,  2.03276165e-02,  3.67761701e-02,\n",
       "         3.80224213e-02,  2.68490296e-02,  5.45620546e-02,\n",
       "         9.50019136e-02,  4.82198298e-02,  1.65613238e-02,\n",
       "         4.51576337e-03,  4.41201031e-03,  1.60032772e-02,\n",
       "         3.23596746e-02,  1.38588957e-02,  1.81522947e-02,\n",
       "         1.11169610e-02,  1.11191524e-02,  1.77902840e-02,\n",
       "         1.54718691e-02,  1.31346807e-02,  4.85982792e-03,\n",
       "         3.97865986e-03,  8.01763404e-03,  6.78168470e-03,\n",
       "         5.19998744e-03,  1.64804480e-03,  9.19358106e-04,\n",
       "         1.27379107e-03,  2.24648160e-03,  2.37141363e-03,\n",
       "         1.42067508e-03,  8.24634859e-04,  1.07769284e-03,\n",
       "         1.57344609e-03,  4.28323681e-03,  1.82079838e-03,\n",
       "         1.61661080e-03,  2.22730124e-03,  4.94626537e-03,\n",
       "         6.81372173e-03,  3.92525969e-03,  3.30639584e-03,\n",
       "         2.03045271e-03,  9.49513109e-04,  1.05329871e-03,\n",
       "         6.01427339e-04,  6.68407010e-04,  3.10108042e-03,\n",
       "         1.50270760e-03,  1.47479726e-03,  1.35357259e-03,\n",
       "         1.51116238e-03,  1.32128980e-03,  8.18120490e-04,\n",
       "         8.26657808e-04,  1.00114977e-03,  4.66286234e-04,\n",
       "         2.96928920e-04,  1.50804539e-04,  2.22248666e-04,\n",
       "         3.87247390e-04,  4.79286362e-04,  1.01726165e-03,\n",
       "         1.24677282e-03,  2.05779495e-03,  1.91598688e-03,\n",
       "         2.77740043e-03,  3.01284040e-03,  3.23497877e-03,\n",
       "         2.41380255e-03,  1.60875020e-03,  1.90174195e-03,\n",
       "         1.30454730e-03,  1.15729845e-03,  1.15878868e-03,\n",
       "         8.82072549e-04,  1.02088286e-03,  7.62235024e-04,\n",
       "         5.17104461e-04,  5.48892946e-04,  2.61646521e-04,\n",
       "         2.61432899e-04,  3.23482964e-04,  3.79595789e-04,\n",
       "         2.58984248e-04,  1.28986401e-04,  7.46488295e-05]])"
      ]
     },
     "execution_count": 18,
     "metadata": {},
     "output_type": "execute_result"
    }
   ],
   "source": [
    "feature"
   ]
  },
  {
   "cell_type": "code",
   "execution_count": null,
   "id": "db9cbd2c",
   "metadata": {},
   "outputs": [],
   "source": []
  }
 ],
 "metadata": {
  "kernelspec": {
   "display_name": "Python 3 (ipykernel)",
   "language": "python",
   "name": "python3"
  },
  "language_info": {
   "codemirror_mode": {
    "name": "ipython",
    "version": 3
   },
   "file_extension": ".py",
   "mimetype": "text/x-python",
   "name": "python",
   "nbconvert_exporter": "python",
   "pygments_lexer": "ipython3",
   "version": "3.9.7"
  }
 },
 "nbformat": 4,
 "nbformat_minor": 5
}
